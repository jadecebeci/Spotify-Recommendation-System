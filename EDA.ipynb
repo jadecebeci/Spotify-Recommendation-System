{
  "nbformat": 4,
  "nbformat_minor": 0,
  "metadata": {
    "colab": {
      "provenance": [],
      "authorship_tag": "ABX9TyMSuDopRlIYy++sH3Pea1ts",
      "include_colab_link": true
    },
    "kernelspec": {
      "name": "python3",
      "display_name": "Python 3"
    },
    "language_info": {
      "name": "python"
    }
  },
  "cells": [
    {
      "cell_type": "markdown",
      "metadata": {
        "id": "view-in-github",
        "colab_type": "text"
      },
      "source": [
        "<a href=\"https://colab.research.google.com/github/yesimcebeci/Spotify-Recommendation-System/blob/main/EDA.ipynb\" target=\"_parent\"><img src=\"https://colab.research.google.com/assets/colab-badge.svg\" alt=\"Open In Colab\"/></a>"
      ]
    },
    {
      "cell_type": "markdown",
      "source": [
        "# Building Recommender Systems with Spotify Data"
      ],
      "metadata": {
        "id": "5t1mp09nW8Wu"
      }
    },
    {
      "cell_type": "markdown",
      "source": [
        "## Import libraries"
      ],
      "metadata": {
        "id": "D2tjlYO_Xaic"
      }
    },
    {
      "cell_type": "code",
      "source": [],
      "metadata": {
        "id": "-0wKP5koN9UU"
      },
      "execution_count": null,
      "outputs": []
    },
    {
      "cell_type": "code",
      "source": [
        "import pandas as pd\n",
        "import matplotlib.pyplot as plt\n",
        "import seaborn as sns\n",
        "import numpy as np\n",
        "from sklearn.preprocessing import StandardScaler\n",
        "from sklearn.pipeline import Pipeline\n",
        "from sklearn.cluster import KMeans, AffinityPropagation, AgglomerativeClustering, Birch, MiniBatchKMeans, OPTICS, DBSCAN\n",
        "from sklearn.mixture import GaussianMixture\n",
        "from sklearn.decomposition import PCA\n",
        "from sklearn.metrics import silhouette_score, calinski_harabasz_score, davies_bouldin_score\n",
        "from sklearn.model_selection import GridSearchCV\n",
        "import plotly.express as px\n",
        "import pickle\n"
      ],
      "metadata": {
        "id": "zzDxU3IjXdcp"
      },
      "execution_count": null,
      "outputs": []
    },
    {
      "cell_type": "code",
      "source": [
        "from google.colab import drive\n",
        "drive.mount('/content/drive')"
      ],
      "metadata": {
        "colab": {
          "base_uri": "https://localhost:8080/"
        },
        "id": "Oemk3UAdN-5I",
        "outputId": "09474e52-5491-43f2-8a46-0185406bed66"
      },
      "execution_count": null,
      "outputs": [
        {
          "output_type": "stream",
          "name": "stdout",
          "text": [
            "Mounted at /content/drive\n"
          ]
        }
      ]
    },
    {
      "cell_type": "code",
      "source": [
        "#import data\n",
        "path = \"/content/drive/MyDrive/Colab Notebooks/data/playlist.csv\"\n",
        "data = pd.read_csv(path)\n",
        "# Dataset is now stored in a Pandas Dataframe"
      ],
      "metadata": {
        "id": "I99oNUa8Ov4h"
      },
      "execution_count": null,
      "outputs": []
    },
    {
      "cell_type": "code",
      "source": [
        "data.head()"
      ],
      "metadata": {
        "id": "YHQBx9A3dsf9",
        "colab": {
          "base_uri": "https://localhost:8080/",
          "height": 426
        },
        "outputId": "ea121020-d811-4723-aee3-40af1c061a86"
      },
      "execution_count": null,
      "outputs": [
        {
          "output_type": "execute_result",
          "data": {
            "text/plain": [
              "               artist               artist_id  popularity  \\\n",
              "0              Hozier  2FXC3k01G6Gw61bmprjgqS           0   \n",
              "1         Mike Posner  2KsP6tYLJlTBvSUxnwlVWa          76   \n",
              "2  Tyler, The Creator  4V8LLVI7PbaPR0K2TGSxFF          84   \n",
              "3            Bastille  7EQ0qTo7fWT7DPxmxtSYEc          72   \n",
              "4             Shakira  0EmeFodog0BfCgMzAIvKQp          83   \n",
              "\n",
              "                                      album  \\\n",
              "0                           Hozier (Deluxe)   \n",
              "1                     31 Minutes to Takeoff   \n",
              "2                                Flower Boy   \n",
              "3                                 Bad Blood   \n",
              "4  Oral Fixation, Vol. 2 (Expanded Edition)   \n",
              "\n",
              "                           track_name                track_id  danceability  \\\n",
              "0                   Take Me To Church  7dS5EaCoMnN7DzlpT6aRn2         0.566   \n",
              "1         Cooler Than Me - Single Mix  2V4bv1fNWfTcyRJKmej6Sj         0.768   \n",
              "2    See You Again (feat. Kali Uchis)  7KA4W4McWYRpgf0fWsJZWB         0.558   \n",
              "3                             Pompeii  3gbBpTdY8lnQwqxNCcf795         0.679   \n",
              "4  Hips Don't Lie (feat. Wyclef Jean)  3ZFTkvIE7kyPt6Nu3PEa7V         0.778   \n",
              "\n",
              "   energy  key  loudness  mode  speechiness  instrumentalness  liveness  \\\n",
              "0   0.664    4    -5.303     0       0.0464          0.000000     0.116   \n",
              "1   0.820    7    -4.630     0       0.0474          0.000000     0.689   \n",
              "2   0.559    6    -9.222     1       0.0959          0.000007     0.109   \n",
              "3   0.715    9    -6.383     1       0.0407          0.000000     0.271   \n",
              "4   0.824   10    -5.892     0       0.0707          0.000000     0.405   \n",
              "\n",
              "   valence    tempo  duration_ms  time_signature  \n",
              "0    0.437  128.945       241688               4  \n",
              "1    0.625  129.965       213293               4  \n",
              "2    0.620   78.558       180387               4  \n",
              "3    0.571  127.435       214148               4  \n",
              "4    0.758  100.024       218093               4  "
            ],
            "text/html": [
              "\n",
              "  <div id=\"df-15523c40-15b3-4911-a578-7290d53ce2e2\">\n",
              "    <div class=\"colab-df-container\">\n",
              "      <div>\n",
              "<style scoped>\n",
              "    .dataframe tbody tr th:only-of-type {\n",
              "        vertical-align: middle;\n",
              "    }\n",
              "\n",
              "    .dataframe tbody tr th {\n",
              "        vertical-align: top;\n",
              "    }\n",
              "\n",
              "    .dataframe thead th {\n",
              "        text-align: right;\n",
              "    }\n",
              "</style>\n",
              "<table border=\"1\" class=\"dataframe\">\n",
              "  <thead>\n",
              "    <tr style=\"text-align: right;\">\n",
              "      <th></th>\n",
              "      <th>artist</th>\n",
              "      <th>artist_id</th>\n",
              "      <th>popularity</th>\n",
              "      <th>album</th>\n",
              "      <th>track_name</th>\n",
              "      <th>track_id</th>\n",
              "      <th>danceability</th>\n",
              "      <th>energy</th>\n",
              "      <th>key</th>\n",
              "      <th>loudness</th>\n",
              "      <th>mode</th>\n",
              "      <th>speechiness</th>\n",
              "      <th>instrumentalness</th>\n",
              "      <th>liveness</th>\n",
              "      <th>valence</th>\n",
              "      <th>tempo</th>\n",
              "      <th>duration_ms</th>\n",
              "      <th>time_signature</th>\n",
              "    </tr>\n",
              "  </thead>\n",
              "  <tbody>\n",
              "    <tr>\n",
              "      <th>0</th>\n",
              "      <td>Hozier</td>\n",
              "      <td>2FXC3k01G6Gw61bmprjgqS</td>\n",
              "      <td>0</td>\n",
              "      <td>Hozier (Deluxe)</td>\n",
              "      <td>Take Me To Church</td>\n",
              "      <td>7dS5EaCoMnN7DzlpT6aRn2</td>\n",
              "      <td>0.566</td>\n",
              "      <td>0.664</td>\n",
              "      <td>4</td>\n",
              "      <td>-5.303</td>\n",
              "      <td>0</td>\n",
              "      <td>0.0464</td>\n",
              "      <td>0.000000</td>\n",
              "      <td>0.116</td>\n",
              "      <td>0.437</td>\n",
              "      <td>128.945</td>\n",
              "      <td>241688</td>\n",
              "      <td>4</td>\n",
              "    </tr>\n",
              "    <tr>\n",
              "      <th>1</th>\n",
              "      <td>Mike Posner</td>\n",
              "      <td>2KsP6tYLJlTBvSUxnwlVWa</td>\n",
              "      <td>76</td>\n",
              "      <td>31 Minutes to Takeoff</td>\n",
              "      <td>Cooler Than Me - Single Mix</td>\n",
              "      <td>2V4bv1fNWfTcyRJKmej6Sj</td>\n",
              "      <td>0.768</td>\n",
              "      <td>0.820</td>\n",
              "      <td>7</td>\n",
              "      <td>-4.630</td>\n",
              "      <td>0</td>\n",
              "      <td>0.0474</td>\n",
              "      <td>0.000000</td>\n",
              "      <td>0.689</td>\n",
              "      <td>0.625</td>\n",
              "      <td>129.965</td>\n",
              "      <td>213293</td>\n",
              "      <td>4</td>\n",
              "    </tr>\n",
              "    <tr>\n",
              "      <th>2</th>\n",
              "      <td>Tyler, The Creator</td>\n",
              "      <td>4V8LLVI7PbaPR0K2TGSxFF</td>\n",
              "      <td>84</td>\n",
              "      <td>Flower Boy</td>\n",
              "      <td>See You Again (feat. Kali Uchis)</td>\n",
              "      <td>7KA4W4McWYRpgf0fWsJZWB</td>\n",
              "      <td>0.558</td>\n",
              "      <td>0.559</td>\n",
              "      <td>6</td>\n",
              "      <td>-9.222</td>\n",
              "      <td>1</td>\n",
              "      <td>0.0959</td>\n",
              "      <td>0.000007</td>\n",
              "      <td>0.109</td>\n",
              "      <td>0.620</td>\n",
              "      <td>78.558</td>\n",
              "      <td>180387</td>\n",
              "      <td>4</td>\n",
              "    </tr>\n",
              "    <tr>\n",
              "      <th>3</th>\n",
              "      <td>Bastille</td>\n",
              "      <td>7EQ0qTo7fWT7DPxmxtSYEc</td>\n",
              "      <td>72</td>\n",
              "      <td>Bad Blood</td>\n",
              "      <td>Pompeii</td>\n",
              "      <td>3gbBpTdY8lnQwqxNCcf795</td>\n",
              "      <td>0.679</td>\n",
              "      <td>0.715</td>\n",
              "      <td>9</td>\n",
              "      <td>-6.383</td>\n",
              "      <td>1</td>\n",
              "      <td>0.0407</td>\n",
              "      <td>0.000000</td>\n",
              "      <td>0.271</td>\n",
              "      <td>0.571</td>\n",
              "      <td>127.435</td>\n",
              "      <td>214148</td>\n",
              "      <td>4</td>\n",
              "    </tr>\n",
              "    <tr>\n",
              "      <th>4</th>\n",
              "      <td>Shakira</td>\n",
              "      <td>0EmeFodog0BfCgMzAIvKQp</td>\n",
              "      <td>83</td>\n",
              "      <td>Oral Fixation, Vol. 2 (Expanded Edition)</td>\n",
              "      <td>Hips Don't Lie (feat. Wyclef Jean)</td>\n",
              "      <td>3ZFTkvIE7kyPt6Nu3PEa7V</td>\n",
              "      <td>0.778</td>\n",
              "      <td>0.824</td>\n",
              "      <td>10</td>\n",
              "      <td>-5.892</td>\n",
              "      <td>0</td>\n",
              "      <td>0.0707</td>\n",
              "      <td>0.000000</td>\n",
              "      <td>0.405</td>\n",
              "      <td>0.758</td>\n",
              "      <td>100.024</td>\n",
              "      <td>218093</td>\n",
              "      <td>4</td>\n",
              "    </tr>\n",
              "  </tbody>\n",
              "</table>\n",
              "</div>\n",
              "      <button class=\"colab-df-convert\" onclick=\"convertToInteractive('df-15523c40-15b3-4911-a578-7290d53ce2e2')\"\n",
              "              title=\"Convert this dataframe to an interactive table.\"\n",
              "              style=\"display:none;\">\n",
              "        \n",
              "  <svg xmlns=\"http://www.w3.org/2000/svg\" height=\"24px\"viewBox=\"0 0 24 24\"\n",
              "       width=\"24px\">\n",
              "    <path d=\"M0 0h24v24H0V0z\" fill=\"none\"/>\n",
              "    <path d=\"M18.56 5.44l.94 2.06.94-2.06 2.06-.94-2.06-.94-.94-2.06-.94 2.06-2.06.94zm-11 1L8.5 8.5l.94-2.06 2.06-.94-2.06-.94L8.5 2.5l-.94 2.06-2.06.94zm10 10l.94 2.06.94-2.06 2.06-.94-2.06-.94-.94-2.06-.94 2.06-2.06.94z\"/><path d=\"M17.41 7.96l-1.37-1.37c-.4-.4-.92-.59-1.43-.59-.52 0-1.04.2-1.43.59L10.3 9.45l-7.72 7.72c-.78.78-.78 2.05 0 2.83L4 21.41c.39.39.9.59 1.41.59.51 0 1.02-.2 1.41-.59l7.78-7.78 2.81-2.81c.8-.78.8-2.07 0-2.86zM5.41 20L4 18.59l7.72-7.72 1.47 1.35L5.41 20z\"/>\n",
              "  </svg>\n",
              "      </button>\n",
              "      \n",
              "  <style>\n",
              "    .colab-df-container {\n",
              "      display:flex;\n",
              "      flex-wrap:wrap;\n",
              "      gap: 12px;\n",
              "    }\n",
              "\n",
              "    .colab-df-convert {\n",
              "      background-color: #E8F0FE;\n",
              "      border: none;\n",
              "      border-radius: 50%;\n",
              "      cursor: pointer;\n",
              "      display: none;\n",
              "      fill: #1967D2;\n",
              "      height: 32px;\n",
              "      padding: 0 0 0 0;\n",
              "      width: 32px;\n",
              "    }\n",
              "\n",
              "    .colab-df-convert:hover {\n",
              "      background-color: #E2EBFA;\n",
              "      box-shadow: 0px 1px 2px rgba(60, 64, 67, 0.3), 0px 1px 3px 1px rgba(60, 64, 67, 0.15);\n",
              "      fill: #174EA6;\n",
              "    }\n",
              "\n",
              "    [theme=dark] .colab-df-convert {\n",
              "      background-color: #3B4455;\n",
              "      fill: #D2E3FC;\n",
              "    }\n",
              "\n",
              "    [theme=dark] .colab-df-convert:hover {\n",
              "      background-color: #434B5C;\n",
              "      box-shadow: 0px 1px 3px 1px rgba(0, 0, 0, 0.15);\n",
              "      filter: drop-shadow(0px 1px 2px rgba(0, 0, 0, 0.3));\n",
              "      fill: #FFFFFF;\n",
              "    }\n",
              "  </style>\n",
              "\n",
              "      <script>\n",
              "        const buttonEl =\n",
              "          document.querySelector('#df-15523c40-15b3-4911-a578-7290d53ce2e2 button.colab-df-convert');\n",
              "        buttonEl.style.display =\n",
              "          google.colab.kernel.accessAllowed ? 'block' : 'none';\n",
              "\n",
              "        async function convertToInteractive(key) {\n",
              "          const element = document.querySelector('#df-15523c40-15b3-4911-a578-7290d53ce2e2');\n",
              "          const dataTable =\n",
              "            await google.colab.kernel.invokeFunction('convertToInteractive',\n",
              "                                                     [key], {});\n",
              "          if (!dataTable) return;\n",
              "\n",
              "          const docLinkHtml = 'Like what you see? Visit the ' +\n",
              "            '<a target=\"_blank\" href=https://colab.research.google.com/notebooks/data_table.ipynb>data table notebook</a>'\n",
              "            + ' to learn more about interactive tables.';\n",
              "          element.innerHTML = '';\n",
              "          dataTable['output_type'] = 'display_data';\n",
              "          await google.colab.output.renderOutput(dataTable, element);\n",
              "          const docLink = document.createElement('div');\n",
              "          docLink.innerHTML = docLinkHtml;\n",
              "          element.appendChild(docLink);\n",
              "        }\n",
              "      </script>\n",
              "    </div>\n",
              "  </div>\n",
              "  "
            ]
          },
          "metadata": {},
          "execution_count": 9
        }
      ]
    },
    {
      "cell_type": "code",
      "source": [
        "data.info()"
      ],
      "metadata": {
        "colab": {
          "base_uri": "https://localhost:8080/"
        },
        "id": "5IkM7WNGPOVR",
        "outputId": "3c216dc3-08fc-45a1-cf23-a1e2d13d80ce"
      },
      "execution_count": null,
      "outputs": [
        {
          "output_type": "stream",
          "name": "stdout",
          "text": [
            "<class 'pandas.core.frame.DataFrame'>\n",
            "RangeIndex: 5295 entries, 0 to 5294\n",
            "Data columns (total 18 columns):\n",
            " #   Column            Non-Null Count  Dtype  \n",
            "---  ------            --------------  -----  \n",
            " 0   artist            5295 non-null   object \n",
            " 1   artist_id         5295 non-null   object \n",
            " 2   popularity        5295 non-null   int64  \n",
            " 3   album             5293 non-null   object \n",
            " 4   track_name        5293 non-null   object \n",
            " 5   track_id          5295 non-null   object \n",
            " 6   danceability      5295 non-null   float64\n",
            " 7   energy            5295 non-null   float64\n",
            " 8   key               5295 non-null   int64  \n",
            " 9   loudness          5295 non-null   float64\n",
            " 10  mode              5295 non-null   int64  \n",
            " 11  speechiness       5295 non-null   float64\n",
            " 12  instrumentalness  5295 non-null   float64\n",
            " 13  liveness          5295 non-null   float64\n",
            " 14  valence           5295 non-null   float64\n",
            " 15  tempo             5295 non-null   float64\n",
            " 16  duration_ms       5295 non-null   int64  \n",
            " 17  time_signature    5295 non-null   int64  \n",
            "dtypes: float64(8), int64(5), object(5)\n",
            "memory usage: 744.7+ KB\n"
          ]
        }
      ]
    },
    {
      "cell_type": "code",
      "source": [],
      "metadata": {
        "id": "u-SGbvV8PQqk"
      },
      "execution_count": null,
      "outputs": []
    },
    {
      "cell_type": "markdown",
      "source": [
        "## Data Understanding"
      ],
      "metadata": {
        "id": "nv0sB8SfP9Wa"
      }
    },
    {
      "cell_type": "code",
      "source": [
        "#Checking for missing data\n",
        "data.isna().sum()"
      ],
      "metadata": {
        "colab": {
          "base_uri": "https://localhost:8080/"
        },
        "id": "g80PMKRdP_tv",
        "outputId": "02144c27-e52a-477d-f003-6b15b615975e"
      },
      "execution_count": null,
      "outputs": [
        {
          "output_type": "execute_result",
          "data": {
            "text/plain": [
              "artist              0\n",
              "artist_id           0\n",
              "popularity          0\n",
              "album               2\n",
              "track_name          2\n",
              "track_id            0\n",
              "danceability        0\n",
              "energy              0\n",
              "key                 0\n",
              "loudness            0\n",
              "mode                0\n",
              "speechiness         0\n",
              "instrumentalness    0\n",
              "liveness            0\n",
              "valence             0\n",
              "tempo               0\n",
              "duration_ms         0\n",
              "time_signature      0\n",
              "dtype: int64"
            ]
          },
          "metadata": {},
          "execution_count": 11
        }
      ]
    },
    {
      "cell_type": "code",
      "source": [
        "data.dropna(inplace = True)"
      ],
      "metadata": {
        "id": "HHmEVKgZQEUq"
      },
      "execution_count": null,
      "outputs": []
    },
    {
      "cell_type": "code",
      "source": [
        "# Checking nulls after dropping\n",
        "data.info()"
      ],
      "metadata": {
        "colab": {
          "base_uri": "https://localhost:8080/"
        },
        "id": "D38sKa9JQddc",
        "outputId": "1a773ff3-9284-4afe-e0ae-94e9a86591c7"
      },
      "execution_count": null,
      "outputs": [
        {
          "output_type": "stream",
          "name": "stdout",
          "text": [
            "<class 'pandas.core.frame.DataFrame'>\n",
            "Int64Index: 5293 entries, 0 to 5294\n",
            "Data columns (total 18 columns):\n",
            " #   Column            Non-Null Count  Dtype  \n",
            "---  ------            --------------  -----  \n",
            " 0   artist            5293 non-null   object \n",
            " 1   artist_id         5293 non-null   object \n",
            " 2   popularity        5293 non-null   int64  \n",
            " 3   album             5293 non-null   object \n",
            " 4   track_name        5293 non-null   object \n",
            " 5   track_id          5293 non-null   object \n",
            " 6   danceability      5293 non-null   float64\n",
            " 7   energy            5293 non-null   float64\n",
            " 8   key               5293 non-null   int64  \n",
            " 9   loudness          5293 non-null   float64\n",
            " 10  mode              5293 non-null   int64  \n",
            " 11  speechiness       5293 non-null   float64\n",
            " 12  instrumentalness  5293 non-null   float64\n",
            " 13  liveness          5293 non-null   float64\n",
            " 14  valence           5293 non-null   float64\n",
            " 15  tempo             5293 non-null   float64\n",
            " 16  duration_ms       5293 non-null   int64  \n",
            " 17  time_signature    5293 non-null   int64  \n",
            "dtypes: float64(8), int64(5), object(5)\n",
            "memory usage: 785.7+ KB\n"
          ]
        }
      ]
    },
    {
      "cell_type": "code",
      "source": [],
      "metadata": {
        "id": "mxu4NN4dQlkD"
      },
      "execution_count": null,
      "outputs": []
    }
  ]
}